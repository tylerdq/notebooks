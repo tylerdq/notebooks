{
  "nbformat": 4,
  "nbformat_minor": 0,
  "metadata": {
    "colab": {
      "name": "pdfgrep-gdrive.ipynb",
      "provenance": [],
      "private_outputs": true,
      "collapsed_sections": [
        "6Q0MCWARa21r"
      ],
      "authorship_tag": "ABX9TyMaYbJSoeMxnAZYAlTBzddA",
      "include_colab_link": true
    },
    "kernelspec": {
      "name": "python3",
      "display_name": "Python 3"
    }
  },
  "cells": [
    {
      "cell_type": "markdown",
      "metadata": {
        "id": "view-in-github",
        "colab_type": "text"
      },
      "source": [
        "<a href=\"https://colab.research.google.com/github/tylerdq/notebooks/blob/master/pdfgrep_gdrive.ipynb\" target=\"_parent\"><img src=\"https://colab.research.google.com/assets/colab-badge.svg\" alt=\"Open In Colab\"/></a>"
      ]
    },
    {
      "cell_type": "markdown",
      "metadata": {
        "id": "mVnHXbfoafcD",
        "colab_type": "text"
      },
      "source": [
        "# Visualize key terms in PDF file(s) from a Google Drive folder\n",
        "\n",
        "*Implementation by [Tyler Quiring](https://github.com/tylerdq/)  \n",
        "Source available on [GitHub](https://github.com/tylerdq/notebooks/blob/master/pdfgrep_gdrive.ipynb)*"
      ]
    },
    {
      "cell_type": "markdown",
      "metadata": {
        "id": "6Q0MCWARa21r",
        "colab_type": "text"
      },
      "source": [
        "## Documentation"
      ]
    },
    {
      "cell_type": "markdown",
      "metadata": {
        "id": "1k9Ja2mXdZn0",
        "colab_type": "text"
      },
      "source": [
        "### Functionality\n",
        "This notebook provides a working solution for finding a key term or search phrase in a set of PDFs containing a [searchable](https://blogs.adobe.com/acrolaw/2007/02/is_that_pdf_sea/) text layer. It returns bar charts that show counts of the term/phrase across all pages in each PDF with matches as well as counts of pages that contain the term/phrase at least once. It also provides a way to drill down into how a term/phrase is distributed across a single PDF file."
      ]
    },
    {
      "cell_type": "markdown",
      "metadata": {
        "id": "zZjpMDfsbfht",
        "colab_type": "text"
      },
      "source": [
        "### Implementation details\n",
        "[pdfgrep](https://pdfgrep.org/) drives the PDF search functionality. It is a commandline utiltiy for UNIX-based systems such as the Linux kernel that powers this notebook. Importantly, result accuracy is dependent on the quality of the [OCR](https://en.wikipedia.org/wiki/Optical_character_recognition) process originally applied (if at all) to each individual PDF. OCR is a notoriously difficult problem and while the technology is constantly improving, this notebook may return inaccurate results for PDFs with optically complex text (such as scans or pages with ligatures) or missing results for PDFs or pages where there is no searchable text layer."
      ]
    },
    {
      "cell_type": "markdown",
      "metadata": {
        "id": "UjnY5UpqbikT",
        "colab_type": "text"
      },
      "source": [
        "### Data caching/persistence\n",
        "The cells below take advantage of pdfgrep's cache feature, which retains text from PDFs to speed up subsequent searches (by avoiding re-extracting the text from the PDFs for each search). The cache should persist for the life of the underlying virtual machine, which according to [Google's FAQ](https://research.google.com/colaboratory/faq.html) is reset periodically to free up resources for other users. This currently requires re-caching when the notebook is loaded again."
      ]
    },
    {
      "cell_type": "markdown",
      "metadata": {
        "id": "SSSdFsv3blQ7",
        "colab_type": "text"
      },
      "source": [
        "### Authentication notes\n",
        "The set-up step below requires authenticating the Colab notebook to access the contents of your Google Drive. This is a direct authentication between two Google services (Colab and Drive) under your own account. However, if you are uncomfortable with the required authentication steps, do not proceed. This notebook is provided on an AS-IS basis and the user is responsible for any effects of using the software."
      ]
    },
    {
      "cell_type": "markdown",
      "metadata": {
        "id": "GWCZA9KCa_BC",
        "colab_type": "text"
      },
      "source": [
        "## Execution"
      ]
    },
    {
      "cell_type": "code",
      "metadata": {
        "id": "emdU7oqfJ6vV",
        "colab_type": "code",
        "cellView": "form",
        "colab": {}
      },
      "source": [
        "#@title Set up\n",
        "#@markdown 1. Run this cell\n",
        "#@markdown 2. Follow authentication link & instructions\n",
        "#@markdown 3. Click folder icon in left sidebar\n",
        "#@markdown 4. Navigate to the location under \"drive\" folder with your PDFs\n",
        "#@markdown 5. Right-click the folder, click \"Copy path\", paste when requested\n",
        "!sudo apt install pdfgrep\n",
        "import subprocess, os, glob, csv\n",
        "import pandas as pd\n",
        "from google.colab import drive\n",
        "drive.mount('/content/drive')\n",
        "path = input('Please enter the path with the PDFs you would like to search: ')\n",
        "os.chdir(path)\n",
        "print('Thank you, please proceed to the next cell')"
      ],
      "execution_count": 0,
      "outputs": []
    },
    {
      "cell_type": "code",
      "metadata": {
        "id": "Y4_qo5aVIyLM",
        "colab_type": "code",
        "cellView": "form",
        "colab": {}
      },
      "source": [
        "#@title Term and page count for a given search phrase in all PDFs\n",
        "term = \"human\" #@param {type:\"string\"}\n",
        "pg_result = subprocess.check_output(['pdfgrep', '-i', term, '-p', '--cache']\n",
        "                                    + glob.glob('*pdf')).decode('utf-8')\n",
        "ct_result = subprocess.check_output(['pdfgrep', '-i', term, '-c', '--cache']\n",
        "                                    + glob.glob('*pdf')).decode('utf-8')\n",
        "pg_data = csv.reader(pg_result.splitlines(), delimiter=':')\n",
        "ct_data = csv.reader(ct_result.splitlines(), delimiter=':')\n",
        "pg_df = pd.DataFrame(data=pg_data, dtype=int, columns=['file', 'page', 'count'])\n",
        "ct_df = pd.DataFrame(data=ct_data, dtype=int, columns=['file', 'count'])\n",
        "pg_df['page'] = pg_df['page'].astype(str).astype(int)\n",
        "pg_df['count'] = pg_df['count'].astype(str).astype(int)\n",
        "ct_df['count'] = ct_df['count'].astype(str).astype(int)\n",
        "pg_df = pg_df.groupby('file').size().to_frame('pages').reset_index()\n",
        "df = pg_df.merge(ct_df)\n",
        "count = df.plot.bar(x='file', y='count', rot=90, figsize=(12, 6))\n",
        "pages = df.plot.bar(x='file', y='pages', rot=90, figsize=(12, 6))"
      ],
      "execution_count": 0,
      "outputs": []
    },
    {
      "cell_type": "code",
      "metadata": {
        "id": "FgMrKH6dWUIh",
        "colab_type": "code",
        "cellView": "form",
        "colab": {}
      },
      "source": [
        "#@title Term count for each page with matches in a single PDF\n",
        "filename = \"colebrook2014death.pdf\" #@param {type:\"string\"}\n",
        "term = \"human\" #@param {type:\"string\"}\n",
        "one_result = subprocess.check_output(['pdfgrep', '-i', term, '-p', '--cache',\n",
        "                                      filename]).decode('utf-8')\n",
        "data = csv.reader(one_result.splitlines(), delimiter=':')\n",
        "df = pd.DataFrame(data=data, dtype=int, columns=['page', 'count'])\n",
        "df['page'] = df['page'].astype(str).astype(int)\n",
        "df['count'] = df['count'].astype(str).astype(int)\n",
        "ax = df.plot.bar(x='page', y='count', rot=90, figsize=(24, 6))"
      ],
      "execution_count": 0,
      "outputs": []
    }
  ]
}