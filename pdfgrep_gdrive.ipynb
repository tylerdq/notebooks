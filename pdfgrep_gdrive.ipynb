{
  "nbformat": 4,
  "nbformat_minor": 0,
  "metadata": {
    "colab": {
      "name": "pdfgrep-gdrive.ipynb",
      "provenance": [],
      "collapsed_sections": [],
      "authorship_tag": "ABX9TyPjYbNv4TDw+R9mmZr21/Fv",
      "include_colab_link": true
    },
    "kernelspec": {
      "name": "python3",
      "display_name": "Python 3"
    }
  },
  "cells": [
    {
      "cell_type": "markdown",
      "metadata": {
        "id": "view-in-github",
        "colab_type": "text"
      },
      "source": [
        "<a href=\"https://colab.research.google.com/github/tylerdq/notebooks/blob/master/pdfgrep_gdrive.ipynb\" target=\"_parent\"><img src=\"https://colab.research.google.com/assets/colab-badge.svg\" alt=\"Open In Colab\"/></a>"
      ]
    },
    {
      "cell_type": "markdown",
      "metadata": {
        "id": "1k9Ja2mXdZn0",
        "colab_type": "text"
      },
      "source": [
        "# Plot key terms in PDF file(s) from a Google Drive folder"
      ]
    },
    {
      "cell_type": "code",
      "metadata": {
        "id": "emdU7oqfJ6vV",
        "colab_type": "code",
        "cellView": "form",
        "colab": {}
      },
      "source": [
        "#@title Set up\n",
        "#@markdown 1. Execute this cell\n",
        "#@markdown 2. Follow authentication link & instructions\n",
        "#@markdown 3. Click folder icon in left sidebar\n",
        "#@markdown 4. Navigate to the location under \"drive\" folder with your PDFs\n",
        "#@markdown 5. Right-click the folder, click \"Copy path\", paste when requested\n",
        "!sudo apt install pdfgrep\n",
        "import subprocess, os, glob, csv\n",
        "import pandas as pd\n",
        "from google.colab import drive\n",
        "drive.mount('/content/drive')\n",
        "path = input('Please enter the path with the PDFs you would like to search: ')\n",
        "os.chdir(path)\n",
        "print('Thank you, please proceed to the next cell')"
      ],
      "execution_count": 0,
      "outputs": []
    },
    {
      "cell_type": "code",
      "metadata": {
        "id": "Y4_qo5aVIyLM",
        "colab_type": "code",
        "cellView": "form",
        "colab": {}
      },
      "source": [
        "#@title Term and page count for a given search phrase in all PDFs\n",
        "#@markdown *Note: First time is slow due to caching, subsequent runs are faster*\n",
        "term = \"\" #@param {type:\"string\"}\n",
        "pg_result = subprocess.check_output(['pdfgrep', '-i', term, '-p', '--cache']\n",
        "                                    + glob.glob('*pdf')).decode('utf-8')\n",
        "ct_result = subprocess.check_output(['pdfgrep', '-i', term, '-c', '--cache']\n",
        "                                    + glob.glob('*pdf')).decode('utf-8')\n",
        "pg_data = csv.reader(pg_result.splitlines(), delimiter=':')\n",
        "ct_data = csv.reader(ct_result.splitlines(), delimiter=':')\n",
        "pg_df = pd.DataFrame(data=pg_data, dtype=int, columns=['file', 'page', 'count'])\n",
        "ct_df = pd.DataFrame(data=ct_data, dtype=int, columns=['file', 'count'])\n",
        "pg_df['page'] = pg_df['page'].astype(str).astype(int)\n",
        "pg_df['count'] = pg_df['count'].astype(str).astype(int)\n",
        "ct_df['count'] = ct_df['count'].astype(str).astype(int)\n",
        "pg_df = pg_df.groupby('file').size().to_frame('pages').reset_index()\n",
        "df = pg_df.merge(ct_df)\n",
        "count = df.plot.bar(x='file', y='count', rot=90, figsize=(12, 6))\n",
        "pages = df.plot.bar(x='file', y='pages', rot=90, figsize=(12, 6))"
      ],
      "execution_count": 0,
      "outputs": []
    },
    {
      "cell_type": "code",
      "metadata": {
        "id": "FgMrKH6dWUIh",
        "colab_type": "code",
        "cellView": "form",
        "colab": {}
      },
      "source": [
        "#@title Term count for each page with matches in a single PDF\n",
        "filename = \"\" #@param {type:\"string\"}\n",
        "term = \"\" #@param {type:\"string\"}\n",
        "one_result = subprocess.check_output(['pdfgrep', '-i', term, '-p', '--cache',\n",
        "                                      filename]).decode('utf-8')\n",
        "data = csv.reader(one_result.splitlines(), delimiter=':')\n",
        "df = pd.DataFrame(data=data, dtype=int, columns=['page', 'count'])\n",
        "df['page'] = df['page'].astype(str).astype(int)\n",
        "df['count'] = df['count'].astype(str).astype(int)\n",
        "ax = df.plot.bar(x='page', y='count', rot=90, figsize=(24, 6))"
      ],
      "execution_count": 0,
      "outputs": []
    }
  ]
}